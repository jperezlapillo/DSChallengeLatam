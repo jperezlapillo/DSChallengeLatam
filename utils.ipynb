{
 "cells": [
  {
   "cell_type": "code",
   "execution_count": 1,
   "metadata": {},
   "outputs": [],
   "source": [
    "import matplotlib.pyplot as plt\n",
    "from sklearn.model_selection import GridSearchCV\n",
    "from sklearn.metrics import balanced_accuracy_score\n",
    "import numpy as np\n",
    "import seaborn as sns\n",
    "\n",
    "def get_tasa_atraso(df, var, tasa_agg):\n",
    "    \"\"\"\n",
    "    Genera gráfico con tasa de atraso (en %) para una variable específica\n",
    "    Incluye valor promedio agregado para comparaciones\n",
    "    :param df: dataframe\n",
    "    :param var: variable a analizar\n",
    "    :param tasa_agg: tasa agregada de atrasos\n",
    "    :return: figura \n",
    "    \"\"\"\n",
    "    plt.figure()\n",
    "    result = round(df.groupby(var)[\"atraso_15\"].sum() / df.groupby(var)[\"SIGLAORI\"].count()*100,1)\n",
    "    fig = result.plot(kind=\"bar\", figsize=(12,4))\n",
    "    plt.axhline(y=tasa_agg, color='purple', linestyle='dotted')\n",
    "    plt.title(\"Tasa de atraso por {}\".format(var))\n",
    "    \n",
    "    return plt.show(fig)\n",
    "\n",
    "\n",
    "\n",
    "def get_best_params_results(model, param_grid, scoring=\"balanced_accuracy\"):\n",
    "    \"\"\"\n",
    "    Realiza entrenamiento para un modelo, tomando un grid search de parámetros\n",
    "    y entrega resultados para el mejor modelo según la métrica definida\n",
    "    :param model: modelo clasificador genérico\n",
    "    :param param_grid: grilla de parámetros sobre los cuales se va a testear\n",
    "    :param scoring: métrica, por default \"balanced_accuracy\"\n",
    "    :return: mmejor odelo clasificador y su métrica asociada\n",
    "    \"\"\"\n",
    "    classifier = GridSearchCV(estimator=model, \n",
    "                              param_grid=param_grid, \n",
    "                              scoring=scoring).fit(train_features_bal, train_label_bal)\n",
    "    \n",
    "    predictions = classifier.predict(test_features)\n",
    "    accuracy = balanced_accuracy_score(test_label, predictions)\n",
    "    \n",
    "    return classifier, accuracy\n",
    "\n",
    "def plot_matrix(cm, classes, title):\n",
    "    \"\"\"\n",
    "    Genera gráfico de matriz de confusión\n",
    "    :param cm: matriz de confusión (array)\n",
    "    :param classes: lista de clases del problema\n",
    "    :param title: título del gráfico\n",
    "    :return: figura\n",
    "    \"\"\"\n",
    "    ax = sns.heatmap(cm, cmap=\"Blues\", annot=True, fmt=\"g\", xticklabels=classes, yticklabels=classes, cbar=False)\n",
    "    ax.set(title=title, xlabel=\"Predicted label\", ylabel=\"True label\")\n",
    "    return plt.show(ax)"
   ]
  }
 ],
 "metadata": {
  "hide_input": false,
  "kernelspec": {
   "display_name": "Python 3",
   "language": "python",
   "name": "python3"
  },
  "language_info": {
   "codemirror_mode": {
    "name": "ipython",
    "version": 3
   },
   "file_extension": ".py",
   "mimetype": "text/x-python",
   "name": "python",
   "nbconvert_exporter": "python",
   "pygments_lexer": "ipython3",
   "version": "3.6.8"
  }
 },
 "nbformat": 4,
 "nbformat_minor": 2
}
